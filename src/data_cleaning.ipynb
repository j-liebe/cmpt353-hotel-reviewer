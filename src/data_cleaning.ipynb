{
 "cells": [
  {
   "cell_type": "code",
   "execution_count": null,
   "id": "621d9188",
   "metadata": {},
   "outputs": [],
   "source": [
    "from pyspark.sql import SparkSession\n",
    "import pandas as pd\n",
    "import re"
   ]
  },
  {
   "cell_type": "markdown",
   "id": "8df96144",
   "metadata": {},
   "source": [
    "### We filtered out English review comments from all comments in language_filtering.ipynb\n",
    "\n",
    "we will be cleaning our English review data set in this script which will be used later for analysis"
   ]
  },
  {
   "cell_type": "code",
   "execution_count": null,
   "id": "8da77777",
   "metadata": {},
   "outputs": [],
   "source": [
    "INPUT_ALL_ENGLISH_DATA_FILEPATH = \"./../filtered_data/english_data.csv.gz\"\n",
    "REGEX_CLEANING_PATTERN = \"[^a-zA-Z\\s]+\""
   ]
  },
  {
   "cell_type": "code",
   "execution_count": null,
   "id": "bd43bdf4",
   "metadata": {},
   "outputs": [],
   "source": [
    "all_english_reviews_df = pd.read_csv(INPUT_ALL_ENGLISH_DATA_FILEPATH, low_memory=False, dtype={'title': str, 'text' : str})\n",
    "\n",
    "# all_english_reviews_df\n",
    "# 147034 rows × 35 columns"
   ]
  },
  {
   "cell_type": "code",
   "execution_count": null,
   "id": "640c1c84",
   "metadata": {},
   "outputs": [],
   "source": [
    "# list(all_english_reviews_df.columns)"
   ]
  },
  {
   "cell_type": "markdown",
   "id": "5fe65b9b",
   "metadata": {},
   "source": [
    "### Drop unwanted columns from the dataframe and extract required information from the columns of dataframe"
   ]
  },
  {
   "cell_type": "code",
   "execution_count": null,
   "id": "2985349a",
   "metadata": {},
   "outputs": [],
   "source": [
    "# dropping some columns that won't be needed for future analyses\n",
    "cols_to_drop = ['num_helpful_votes', \n",
    "                'date', \n",
    "                'via_mobile', \n",
    "                'username', \n",
    "                'num_cities', \n",
    "                'num_reviews', \n",
    "                'num_type_reviews', \n",
    "                'id.1',  \n",
    "                'region_id', \n",
    "                'phone', \n",
    "                'details', \n",
    "                'type',\n",
    "                'num_helpful_votes.1',\n",
    "                'location.1',\n",
    "               ]\n",
    "all_english_reviews_df = all_english_reviews_df.drop(columns = cols_to_drop)\n",
    "\n",
    "# Note: If there is a column name not found error while running this, check the list of column names on originally read df.\n",
    "# all_english_reviews_df"
   ]
  },
  {
   "cell_type": "code",
   "execution_count": null,
   "id": "116d73de",
   "metadata": {},
   "outputs": [],
   "source": [
    "# Split up the date_stayed column into month and year (just keep month as month_stayed)\n",
    "all_english_reviews_df['month_stayed'] = all_english_reviews_df['date_stayed'].str.split(' ').str[0]\n",
    "all_english_reviews_df = all_english_reviews_df.drop(columns = ['date_stayed'])"
   ]
  },
  {
   "cell_type": "markdown",
   "id": "b0a8dcbc",
   "metadata": {},
   "source": [
    "### Add review column to the dataframe based on overall rating which forms a review basis for the hotels"
   ]
  },
  {
   "cell_type": "code",
   "execution_count": null,
   "id": "2c3f21b2",
   "metadata": {},
   "outputs": [],
   "source": [
    "# NaN value check for overall column based on which review column is determined \n",
    "overall_nan_check = all_english_reviews_df['overall'].isnull().values.any()\n",
    "print(overall_nan_check) # expecting false"
   ]
  },
  {
   "cell_type": "code",
   "execution_count": null,
   "id": "2bff817e",
   "metadata": {},
   "outputs": [],
   "source": [
    "# adding a column called \"review\" for the categorizing customer reviews as positive/negative\n",
    "all_english_reviews_df['review'] = all_english_reviews_df['overall'].apply(lambda x: \"positive\" if x >= 3 else \"negative\")\n",
    "\n",
    "# all_english_reviews_df"
   ]
  },
  {
   "cell_type": "markdown",
   "id": "544a4f21",
   "metadata": {},
   "source": [
    "### Performing text cleaning on review comments "
   ]
  },
  {
   "cell_type": "code",
   "execution_count": null,
   "id": "b4bbd826",
   "metadata": {},
   "outputs": [],
   "source": [
    "# # Testing\n",
    "# clean_text_test_pd = all_english_reviews_df.sample(n = 100, replace = False)\n",
    "# clean_text_test_pd"
   ]
  },
  {
   "cell_type": "code",
   "execution_count": null,
   "id": "858902c3",
   "metadata": {},
   "outputs": [],
   "source": [
    "#Remove all non-alphanumeric characters and newline characters except spaces\\n\",\n",
    "def clean_strings(value):\n",
    "    val = ''\n",
    "\n",
    "    # Remove extra whitespaces\n",
    "    val = val.join(value.splitlines())\n",
    "\n",
    "    # print(val)\n",
    "    # Used regex that eliminates all special characters and digits\n",
    "    cleaned_str = re.sub(REGEX_CLEANING_PATTERN, \"\", val)\n",
    "\n",
    "    # convert to lower case\n",
    "    cleaned_str = cleaned_str.lower()\n",
    "    \n",
    "    return cleaned_str"
   ]
  },
  {
   "cell_type": "code",
   "execution_count": null,
   "id": "a11df09f",
   "metadata": {},
   "outputs": [],
   "source": [
    "column_names = ['title','text']\n",
    "all_english_reviews_df[column_names] = all_english_reviews_df[column_names].applymap(clean_strings)\n",
    "# all_english_reviews_df"
   ]
  },
  {
   "cell_type": "markdown",
   "id": "4cf46d22",
   "metadata": {},
   "source": [
    "### Export cleaned English review of all hotels"
   ]
  },
  {
   "cell_type": "code",
   "execution_count": null,
   "id": "a2b0c7b6",
   "metadata": {},
   "outputs": [],
   "source": [
    "# all_english_reviews_df contains cleaned data that will be used for machine learning\n",
    "all_english_reviews_df.to_csv('./../filtered_data/all_cities_cleaned_english_reviews.csv.gz', index = False, compression=\"gzip\")"
   ]
  },
  {
   "cell_type": "markdown",
   "id": "e55ccf7a",
   "metadata": {},
   "source": [
    "### Next we will perform Machine Learning Analysis on cleaned English review dataset. \n",
    "\n",
    "We will split this cleaned data into training and prediction dataset based on user input city\n",
    "\n",
    "User input city would the the city for which they want recommendations. Our reviews data will split such that hotels reviews for the hotels located in user inputed city forms perdiction dataset and rest of the reviews for the hotel in other cities forms training dataset.\n",
    "\n",
    "Machine learning models are written in **machine_learning.ipynb** script"
   ]
  }
 ],
 "metadata": {
  "kernelspec": {
   "display_name": "Python 3 (ipykernel)",
   "language": "python",
   "name": "python3"
  },
  "language_info": {
   "codemirror_mode": {
    "name": "ipython",
    "version": 3
   },
   "file_extension": ".py",
   "mimetype": "text/x-python",
   "name": "python",
   "nbconvert_exporter": "python",
   "pygments_lexer": "ipython3",
   "version": "3.10.9"
  }
 },
 "nbformat": 4,
 "nbformat_minor": 5
}
